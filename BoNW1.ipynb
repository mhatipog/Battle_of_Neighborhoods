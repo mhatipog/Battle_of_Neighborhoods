{
  "nbformat": 4,
  "nbformat_minor": 0,
  "metadata": {
    "colab": {
      "name": "Copie de Overview of Colaboratory Features",
      "provenance": [],
      "collapsed_sections": [],
      "toc_visible": true
    },
    "kernelspec": {
      "display_name": "Python 3",
      "name": "python3"
    }
  },
  "cells": [
    {
      "cell_type": "markdown",
      "metadata": {
        "id": "JyG45Qk3qQLS"
      },
      "source": [
        "# The Battle of neighborhoods W1\n"
      ]
    },
    {
      "cell_type": "markdown",
      "metadata": {
        "id": "KR921S_OQSHG"
      },
      "source": [
        "## Introduction/Business Problem\n",
        "\n",
        "\n",
        "Before the COVID-19 pandemic, tourism was a booming sector across the globe. Also after the pandemy, it is expected to recover. Because people are curious about seeing places, doing new things, experiencing different cultures, and last but not least, trying out different local cuisines. \n",
        "\n",
        "The search of new tastes drives people to tourism and the touristic sector, for example the marketing department of a tourism agency can think of mapping out the similarities/differences between the different local cuisines in the world. Which cuisine is truly unique? Which countries have similar cuisines? The answers to these questions can form the basis of a marketing argument and is already interesting on its own.\n",
        "\n",
        "Therefore, the primary target audience of this project are the companies and government agencies with an interest of having a great restart of the touristic sector after the pandemy. In the second place, the project also targets the attention of people seeking to try new cuisines, as a help to guide them towards a destination with tastes they haven't tasted before.\n",
        "\n",
        "\n"
      ]
    },
    {
      "cell_type": "markdown",
      "metadata": {
        "id": "7bqjkGKwQSHW"
      },
      "source": [
        "## Data \n",
        "Describe the data that you will be using to solve the problem or execute your idea. Remember that you will need to use the Foursquare location data to solve the problem or execute your idea. You can absolutely use other datasets in combination with the Foursquare location data. So make sure that you provide adequate explanation and discussion, with examples, of the data that you will be using, even if it is only Foursquare location data.\n",
        "\n",
        "\n",
        "To tackle the above mentioned problem, I will use the folling data.\n",
        "\n",
        "\n",
        "\n",
        "\n",
        "**Data of recipes**\n",
        "\n",
        "A researcher named Yong-Yeol Ahn scraped tens of thousands of food recipes (cuisines and ingredients) from three different websites. For more information on Yong-Yeol Ahn and his research, I refer to [Flavor Network and the Principles of Food Pairing](http://yongyeol.com/papers/ahn-flavornet-2011.pdf).\n",
        "I will be using the version of the data [hosted on the IBM server](https://s3-api.us-geo.objectstorage.softlayer.net/cf-courses-data/CognitiveClass/DS0103EN/labs/data/recipes.csv). \n",
        "It is a dataset of 57,691 recipes, with data on the cuisine, as well as whether 384 ingredients exist in the recipe or not.\n",
        "\n",
        "\n",
        "**Foursquare API**\n",
        "\n",
        "Foursquare API will be for two purposed,\n",
        "geocoding the coordinates of \n",
        "\n",
        "*   Obtaining the coordinates of the said cuisine, and\n",
        "*   Exploring the restaurants in the location of interest\n",
        "\n",
        "\n",
        "\n",
        "\n"
      ]
    }
  ]
}
